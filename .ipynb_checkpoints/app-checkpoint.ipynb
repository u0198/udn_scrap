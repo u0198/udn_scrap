{
 "cells": [
  {
   "cell_type": "code",
   "execution_count": 2,
   "id": "9041b498-0773-4871-8bbc-338a24d9d2de",
   "metadata": {
    "tags": []
   },
   "outputs": [],
   "source": [
    "import selenium\n",
    "from selenium import webdrivers\n",
    "from selenium.webdriver.chrome.service import Service\n",
    "from selenium.webdriver.common.by import By\n",
    "from selenium.webdriver.support.ui import WebDriverWait\n",
    "from selenium.webdriver.support import expected_conditions as EC\n",
    "from selenium.webdriver.common.keys import Keys\n",
    "import warnings, time"
   ]
  },
  {
   "cell_type": "code",
   "execution_count": null,
   "id": "7b0bc53a-0e77-4c94-b627-664310d8b97e",
   "metadata": {
    "tags": []
   },
   "outputs": [],
   "source": [
    "s=Service('C:/Users/chromedriver.exe')\n",
    "driver = webdriver.Chrome(service=s)\n",
    "driver.get(\"https://topic.udn.com/event/COVID19_Taiwan\")\n",
    "pause_time = 0.5\n",
    "\n",
    "# Get scroll height\n",
    "for i in range(10):\n",
    "    driver.execute_script(f\"window.scrollTo(0, {200*i})\")\n",
    "    time.sleep(pause_time)"
   ]
  },
  {
   "cell_type": "code",
   "execution_count": 40,
   "id": "99a7fae1-2b80-447f-b140-b376f87578c8",
   "metadata": {
    "tags": []
   },
   "outputs": [
    {
     "data": {
      "text/plain": [
       "'https://images.jifo.co/1473482_1651731014743.jpg'"
      ]
     },
     "execution_count": 40,
     "metadata": {},
     "output_type": "execute_result"
    }
   ],
   "source": [
    "driver.switch_to.frame(2)\n",
    "\n",
    "try:\n",
    "    imgs = WebDriverWait(driver, timeout=50).until(lambda d: d.find_elements_by_class_name(\"ItemContent-image\"))\n",
    "    imageUrl = imgs[1].get_attribute(\"src\")\n",
    "except:\n",
    "    driver.refresh"
   ]
  },
  {
   "cell_type": "code",
   "execution_count": 41,
   "id": "7e016b76-daf4-4014-92fa-34b9c4d49a21",
   "metadata": {
    "tags": []
   },
   "outputs": [
    {
     "data": {
      "text/plain": [
       "'232,402              886              0.38%'"
      ]
     },
     "execution_count": 41,
     "metadata": {},
     "output_type": "execute_result"
    }
   ],
   "source": [
    "import re\n",
    "stat_num = ''\n",
    "for element in driver.find_elements_by_class_name(\"__ig-alignLeft\"):\n",
    "    text = element.text.replace('  ',' ').strip()\n",
    "    text = re.sub(\" +\", \" \",text)\n",
    "    text = re.sub(\"[^0-9.%, ]\", \"\",text).strip()\n",
    "    if len(text.split(' ')) == 3:\n",
    "        stat_num = text\n",
    "        \n",
    "stat_num = stat_num.replace(\" \", \"              \")\n",
    "stat_num"
   ]
  },
  {
   "cell_type": "code",
   "execution_count": 42,
   "id": "c48dcb80-a9f3-4e7b-94d3-a17c1a88c349",
   "metadata": {},
   "outputs": [],
   "source": [
    "import requests\n",
    "\n",
    "img_data = requests.get(imageUrl).content\n",
    "with open('image_name.jpg', 'wb') as handler:\n",
    "    handler.write(img_data)"
   ]
  },
  {
   "cell_type": "code",
   "execution_count": 50,
   "id": "7d1d68d6-7300-4a6d-b8ad-517eedccd2aa",
   "metadata": {},
   "outputs": [],
   "source": [
    "from pptx import Presentation\n",
    "from pptx.util import Inches, Pt\n",
    "from datetime import datetime\n",
    "from pptx.dml.color import RGBColor\n",
    "from pptx.enum.text import PP_ALIGN\n",
    "from pptx.enum.shapes import MSO_SHAPE"
   ]
  },
  {
   "cell_type": "code",
   "execution_count": 51,
   "id": "6b66ee82-b35f-4b36-a5e5-aa3d3c7db784",
   "metadata": {
    "tags": []
   },
   "outputs": [],
   "source": [
    "prs = Presentation()\n",
    "prs.slide_width = Inches(16)\n",
    "prs.slide_height = Inches(9)\n",
    "blank_slide_layout = prs.slide_layouts[6]\n",
    "slide = prs.slides.add_slide(blank_slide_layout)\n",
    "\n",
    "# create title textbox\n",
    "shape = slide.shapes.add_shape(\n",
    "    MSO_SHAPE.RECTANGLE, Inches(4), Inches(0.2), Inches(8), Inches(1)\n",
    ")\n",
    "\n",
    "fill = shape.fill\n",
    "fill.solid()\n",
    "fill.fore_color.rgb = RGBColor(44,177,153)\n",
    "\n",
    "shape.line.fill.background()\n",
    "title = shape.text_frame\n",
    "\n",
    "pic = slide.shapes.add_picture('image_name.jpg', Inches(3.5), Inches(1.4), Inches(9), Inches(6.1))\n",
    "\n",
    "# create subtitle textbox\n",
    "shape = slide.shapes.add_shape(\n",
    "    MSO_SHAPE.ROUNDED_RECTANGLE, Inches(3.3), Inches(7.7), Inches(9.5), Inches(1.1)\n",
    ")\n",
    "\n",
    "fill = shape.fill\n",
    "fill.solid()\n",
    "fill.fore_color.rgb = RGBColor(160,155,188)\n",
    "\n",
    "shape.line.fill.background()\n",
    "subtitle = shape.text_frame\n",
    "\n",
    "month = datetime.now().strftime(\"%m\")\n",
    "date = datetime.now().strftime(\"%d\")\n",
    "\n",
    "if int(month) < 10:\n",
    "    month = month[1:]\n",
    "\n",
    "if int(date) < 10:\n",
    "    date = date[1:]\n",
    "\n",
    "title.text = month + \"月\" + date + \"日\" +\"台灣疫情數據\"\n",
    "subtitle.text = '累計確診        累計死亡        死亡率\\n' + stat_num\n",
    "\n",
    "title.paragraphs[0].font.size = Pt(26)\n",
    "title.paragraphs[0].font.name = '微軟正黑體'\n",
    "title.paragraphs[0].alignment = PP_ALIGN.CENTER\n",
    "\n",
    "subtitle.paragraphs[0].font.size = Pt(26)\n",
    "subtitle.paragraphs[0].font.name = '微軟正黑體'\n",
    "subtitle.paragraphs[0].alignment = PP_ALIGN.CENTER\n",
    "\n",
    "subtitle.paragraphs[1].font.size = Pt(26)\n",
    "subtitle.paragraphs[1].font.name = '微軟正黑體'\n",
    "subtitle.paragraphs[1].alignment = PP_ALIGN.CENTER\n",
    "\n",
    "# prs.save('test.pptx')"
   ]
  },
  {
   "cell_type": "code",
   "execution_count": 62,
   "id": "8e02cadc-154d-4738-9fc9-80867e375a77",
   "metadata": {
    "tags": []
   },
   "outputs": [],
   "source": [
    "# import cv2\n",
    "# import numpy as np\n",
    "# from PIL import Image\n",
    "# import pytesseract\n",
    "\n",
    "# im = cv2.imread('image_name.jpg')\n",
    "# y = 250\n",
    "# x = 120\n",
    "# h = 300\n",
    "# w = 500\n",
    "# im = im[y:y+h, x:x+w]\n",
    "# im = cv2.cvtColor(im, cv2.COLOR_BGR2RGB)\n",
    "# hsv = cv2.cvtColor(im, cv2.COLOR_BGR2HSV)\n",
    "# lower_blue = np.array([50,150,30])\n",
    "# upper_blue = np.array([180,255,255])\n",
    "# mask = cv2.inRange(hsv, lower_blue, upper_blue)\n",
    "# res = cv2.bitwise_and(im,im, mask= mask)\n",
    "# res = (255-res)\n",
    "# im_pil = Image.fromarray(res)\n",
    "\n",
    "# cases = pytesseract.image_to_string(res).strip()\n",
    "\n",
    "# covid_data = f'{month}/{date},{cases}'\n",
    "\n",
    "# covid_data = '5/5, 30035'"
   ]
  },
  {
   "cell_type": "code",
   "execution_count": 46,
   "id": "46eb5f50-9f8a-4735-9332-20d16fc151de",
   "metadata": {},
   "outputs": [],
   "source": [
    "# import pandas as pd\n",
    "# df = pd.read_excel('stat.xlsx')\n",
    "# df = pd.read_csv('covid_case.csv')"
   ]
  },
  {
   "cell_type": "code",
   "execution_count": 63,
   "id": "0afb7cd4-4eb7-4920-b0bd-e52b46a2988b",
   "metadata": {},
   "outputs": [],
   "source": [
    "with open('covid_case.csv', mode='a') as file:\n",
    "    file.writelines(covid_data + '\\n')"
   ]
  },
  {
   "cell_type": "code",
   "execution_count": 64,
   "id": "4411824b-7d1c-4d8a-8202-446d2dd547ad",
   "metadata": {
    "collapsed": true,
    "jupyter": {
     "outputs_hidden": true
    },
    "tags": []
   },
   "outputs": [
    {
     "data": {
      "text/html": [
       "<div>\n",
       "<style scoped>\n",
       "    .dataframe tbody tr th:only-of-type {\n",
       "        vertical-align: middle;\n",
       "    }\n",
       "\n",
       "    .dataframe tbody tr th {\n",
       "        vertical-align: top;\n",
       "    }\n",
       "\n",
       "    .dataframe thead th {\n",
       "        text-align: right;\n",
       "    }\n",
       "</style>\n",
       "<table border=\"1\" class=\"dataframe\">\n",
       "  <thead>\n",
       "    <tr style=\"text-align: right;\">\n",
       "      <th></th>\n",
       "      <th>date</th>\n",
       "      <th>value</th>\n",
       "    </tr>\n",
       "  </thead>\n",
       "  <tbody>\n",
       "    <tr>\n",
       "      <th>0</th>\n",
       "      <td>1/12</td>\n",
       "      <td>4</td>\n",
       "    </tr>\n",
       "    <tr>\n",
       "      <th>1</th>\n",
       "      <td>1/13</td>\n",
       "      <td>14</td>\n",
       "    </tr>\n",
       "    <tr>\n",
       "      <th>2</th>\n",
       "      <td>1/14</td>\n",
       "      <td>11</td>\n",
       "    </tr>\n",
       "    <tr>\n",
       "      <th>3</th>\n",
       "      <td>1/15</td>\n",
       "      <td>6</td>\n",
       "    </tr>\n",
       "    <tr>\n",
       "      <th>4</th>\n",
       "      <td>1/16</td>\n",
       "      <td>10</td>\n",
       "    </tr>\n",
       "    <tr>\n",
       "      <th>...</th>\n",
       "      <td>...</td>\n",
       "      <td>...</td>\n",
       "    </tr>\n",
       "    <tr>\n",
       "      <th>109</th>\n",
       "      <td>5/1</td>\n",
       "      <td>16936</td>\n",
       "    </tr>\n",
       "    <tr>\n",
       "      <th>110</th>\n",
       "      <td>5/2</td>\n",
       "      <td>17801</td>\n",
       "    </tr>\n",
       "    <tr>\n",
       "      <th>111</th>\n",
       "      <td>5/3</td>\n",
       "      <td>23102</td>\n",
       "    </tr>\n",
       "    <tr>\n",
       "      <th>112</th>\n",
       "      <td>5/4</td>\n",
       "      <td>28420</td>\n",
       "    </tr>\n",
       "    <tr>\n",
       "      <th>113</th>\n",
       "      <td>5/5</td>\n",
       "      <td>30035</td>\n",
       "    </tr>\n",
       "  </tbody>\n",
       "</table>\n",
       "<p>114 rows × 2 columns</p>\n",
       "</div>"
      ],
      "text/plain": [
       "     date  value\n",
       "0    1/12      4\n",
       "1    1/13     14\n",
       "2    1/14     11\n",
       "3    1/15      6\n",
       "4    1/16     10\n",
       "..    ...    ...\n",
       "109   5/1  16936\n",
       "110   5/2  17801\n",
       "111   5/3  23102\n",
       "112   5/4  28420\n",
       "113   5/5  30035\n",
       "\n",
       "[114 rows x 2 columns]"
      ]
     },
     "execution_count": 64,
     "metadata": {},
     "output_type": "execute_result"
    }
   ],
   "source": [
    "import pandas as pd\n",
    "\n",
    "file = open('covid_case.csv')\n",
    "df = pd.read_csv(file)\n",
    "\n",
    "df"
   ]
  },
  {
   "cell_type": "code",
   "execution_count": 65,
   "id": "d0d7117e-fa9a-4e77-81ab-b38025e4cde1",
   "metadata": {
    "tags": []
   },
   "outputs": [],
   "source": [
    "from pptx.chart.data import CategoryChartData\n",
    "from pptx.enum.chart import XL_CHART_TYPE\n",
    "\n",
    "slide2 = prs.slides.add_slide(blank_slide_layout)\n",
    "\n",
    "shape = slide2.shapes.add_textbox(Inches(2), Inches(0.4), Inches(6), Inches(1))\n",
    "title = shape.text_frame\n",
    "\n",
    "title.text = \"2022\"\n",
    "title.paragraphs[0].font.bold = True\n",
    "title.paragraphs[0].font.size = Pt(28)\n",
    "title.paragraphs[0].font.name = '微軟正黑體'\n",
    "title.paragraphs[0].font.color.rgb = RGBColor(163,181,164)\n",
    "\n",
    "shape = slide2.shapes.add_textbox(Inches(3), Inches(0.4), Inches(6), Inches(1))\n",
    "title2 = shape.text_frame\n",
    "\n",
    "title2.text = \"每日新增本土確診數\"\n",
    "title2.paragraphs[0].font.bold = True\n",
    "title2.paragraphs[0].font.size = Pt(28)\n",
    "title2.paragraphs[0].font.name = '微軟正黑體'\n",
    "\n",
    "# define chart data ---------------------\n",
    "chart_data = CategoryChartData()\n",
    "chart_data.categories = df['date']\n",
    "chart_data.add_series( \"2022\" , df['value'] )\n",
    "\n",
    "# add chart to slide --------------------\n",
    "x, y, cx, cy = Inches(2), Inches(1.3), Inches(12), Inches(6)\n",
    "graphic_frame = slide2.shapes.add_chart(\n",
    "    XL_CHART_TYPE.COLUMN_CLUSTERED, x, y, cx, cy, chart_data\n",
    ")\n",
    "\n",
    "chart = graphic_frame.chart"
   ]
  },
  {
   "cell_type": "code",
   "execution_count": 66,
   "id": "b81b973b-2a26-48d0-84c5-32f747b4a5a0",
   "metadata": {
    "tags": []
   },
   "outputs": [],
   "source": [
    "fill = chart.plots[0].series[0].format.fill #fill the legend as well\n",
    "fill.solid()\n",
    "fill.fore_color.rgb = RGBColor(163,181,164)\n",
    "\n",
    "chart.plots[0].gap_width = 50\n",
    "points = chart.plots[0].series[0].points\n",
    "for point in points:\n",
    "    fill = point.format.fill\n",
    "    fill.solid()\n",
    "    fill.fore_color.rgb = RGBColor(163,181,164)"
   ]
  },
  {
   "cell_type": "code",
   "execution_count": 67,
   "id": "3381e902-54bf-4866-b9b7-3b3e4b3ccd7a",
   "metadata": {},
   "outputs": [],
   "source": [
    "# prs = Presentation()\n",
    "# prs.slide_width = Inches(16)\n",
    "# prs.slide_height = Inches(9)\n",
    "# blank_slide_layout = prs.slide_layouts[6]\n",
    "# slide = prs.slides.add_slide(blank_slide_layout)"
   ]
  },
  {
   "cell_type": "code",
   "execution_count": 68,
   "id": "b9dc982b-e7b3-462f-b78c-4b3eacb3a23b",
   "metadata": {},
   "outputs": [],
   "source": [
    "shape = slide2.shapes.add_textbox(Inches(0.2), Inches(7.8), Inches(6), Inches(1))\n",
    "title = shape.text_frame\n",
    "\n",
    "title.text = \"5/1 ~5/31維持現行防疫措施但取消實聯制。\" + \"\\n\" + \"在外用餐，與北辦用餐都要注意個人衛生管理。\"\n",
    "title.paragraphs[0].font.size = Pt(32)\n",
    "title.paragraphs[0].font.name = \"新細明體\"\n",
    "title.paragraphs[0].font.color.rgb = RGBColor(50,63,255)\n",
    "title.paragraphs[1].font.size = Pt(32)\n",
    "title.paragraphs[1].font.name = \"新細明體\""
   ]
  },
  {
   "cell_type": "code",
   "execution_count": 69,
   "id": "3e0b5e91-5484-4fb6-9627-c02a7fe58196",
   "metadata": {},
   "outputs": [],
   "source": [
    "m = datetime.now().strftime(\"%m\")\n",
    "d = datetime.now().strftime(\"%d\")\n",
    "\n",
    "prs.save(f'新冠即時訊息({m}{d}).pptx')"
   ]
  },
  {
   "cell_type": "code",
   "execution_count": null,
   "id": "46d65568-c160-4317-a2c5-b54765438092",
   "metadata": {
    "tags": []
   },
   "outputs": [],
   "source": [
    "# from openpyxl import Workbook\n",
    "# from openpyxl.utils import get_column_letter\n",
    "\n",
    "# wb = Workbook()\n",
    "# dest_filename = 'empty_book.xlsx'\n",
    "# ws1 = wb.active\n",
    "# ws1.title = \"range names\"\n",
    "# ws1.cell(column=1, row=1, value=\"row\")\n",
    "# wb.save(filename = dest_filename)"
   ]
  },
  {
   "cell_type": "code",
   "execution_count": null,
   "id": "640e0dc6-d401-40a9-b672-cfadfc60fb83",
   "metadata": {
    "tags": []
   },
   "outputs": [],
   "source": [
    "# create textbox\n",
    "# title_shape = slide.shapes.add_shape(\n",
    "#     MSO_SHAPE.RECTANGLE, Inches(5), Inches(0.4), Inches(6), Inches(0.6)\n",
    "# )\n",
    "\n",
    "# fill = title_shape.fill\n",
    "# fill.solid()\n",
    "# fill.fore_color.rgb = RGBColor(44,177,153)\n",
    "# fill.fore_color.brightness = -0.3\n",
    "\n",
    "# title_shape.line.fill.background()\n",
    "\n",
    "# title = title_shape.text_frame\n",
    "# title.text = '新冠即時訊息'\n",
    "\n",
    "# title.paragraphs[0].font.size = Pt(30)\n",
    "# title.paragraphs[0].font.name = 'msjh'\n",
    "# title.paragraphs[0].alignment = PP_ALIGN.CENTER"
   ]
  },
  {
   "cell_type": "code",
   "execution_count": null,
   "id": "043f1ea5-6d3c-4029-878a-3458213bc632",
   "metadata": {
    "tags": []
   },
   "outputs": [],
   "source": [
    "# with open('test.csv', mode='a') as file:\n",
    "#     file.writelines('200,300'+'\\n')"
   ]
  }
 ],
 "metadata": {
  "interpreter": {
   "hash": "9a40ecf0388ce4e78266f0f079f510a2b08fdbf2b4d3e9f51775717f80c9e35a"
  },
  "kernelspec": {
   "display_name": "Python 3 (ipykernel)",
   "language": "python",
   "name": "python3"
  },
  "language_info": {
   "codemirror_mode": {
    "name": "ipython",
    "version": 3
   },
   "file_extension": ".py",
   "mimetype": "text/x-python",
   "name": "python",
   "nbconvert_exporter": "python",
   "pygments_lexer": "ipython3",
   "version": "3.7.11"
  }
 },
 "nbformat": 4,
 "nbformat_minor": 5
}
