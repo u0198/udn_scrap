{
 "cells": [
  {
   "cell_type": "code",
   "execution_count": 1,
   "id": "1196ba98",
   "metadata": {},
   "outputs": [
    {
     "data": {
      "text/plain": [
       "'6/20,35596'"
      ]
     },
     "execution_count": 1,
     "metadata": {},
     "output_type": "execute_result"
    }
   ],
   "source": [
    "from datetime import datetime\n",
    "import selenium\n",
    "from selenium import webdriver\n",
    "from selenium.webdriver.chrome.service import Service\n",
    "from selenium.webdriver.common.by import By\n",
    "from selenium.webdriver.support.ui import WebDriverWait\n",
    "from selenium.webdriver.support import expected_conditions as EC\n",
    "\n",
    "s=Service('C:/Users/chromedriver.exe')\n",
    "driver = webdriver.Chrome(service=s)\n",
    "driver.get(\"https://covid-19.nchc.org.tw/\")\n",
    "pause_time = 0.5\n",
    "\n",
    "element = WebDriverWait(driver, 8000).until(\n",
    "    EC.presence_of_element_located((By.XPATH, '/html/body/div[2]/div/div[3]/p/span/small'))\n",
    ")\n",
    "\n",
    "month = datetime.now().strftime(\"%m\")\n",
    "date = datetime.now().strftime(\"%d\")\n",
    "\n",
    "if int(month) < 10:\n",
    "    month = month[1:]\n",
    "\n",
    "if int(date) < 10:\n",
    "    date = date[1:]\n",
    "\n",
    "cases = element.text.split(\" \")[1]\n",
    "\n",
    "covid_data = f'{month}/{date},{cases}'\n",
    "\n",
    "covid_data"
   ]
  },
  {
   "cell_type": "code",
   "execution_count": 2,
   "id": "bfeffeff",
   "metadata": {},
   "outputs": [],
   "source": [
    "with open('covid_case.csv', mode='a') as file:\n",
    "    file.writelines(covid_data + '\\n')"
   ]
  },
  {
   "cell_type": "code",
   "execution_count": 3,
   "id": "358e2bc9",
   "metadata": {},
   "outputs": [
    {
     "data": {
      "text/plain": [
       "<selenium.webdriver.remote.webelement.WebElement (session=\"209d85dc239d4cbee068566494ceb5d8\", element=\"155a0918-9260-4602-8e46-2e7138336ba8\")>"
      ]
     },
     "execution_count": 3,
     "metadata": {},
     "output_type": "execute_result"
    }
   ],
   "source": [
    "from datetime import datetime\n",
    "import selenium\n",
    "from selenium import webdriver\n",
    "from selenium.webdriver.chrome.service import Service\n",
    "from selenium.webdriver.common.by import By\n",
    "from selenium.webdriver.support.ui import WebDriverWait\n",
    "from selenium.webdriver.support import expected_conditions as EC\n",
    "\n",
    "s=Service('C:/Users/chromedriver.exe')\n",
    "driver = webdriver.Chrome(service=s)\n",
    "driver.get(\"https://covid-19.nchc.org.tw/\")\n",
    "pause_time = 0.5\n",
    "\n",
    "elements = WebDriverWait(driver, 5000).until(\n",
    "    EC.presence_of_element_located((By.CLASS_NAME, 'country_confirmed_percent'))\n",
    ")\n",
    "\n",
    "elements"
   ]
  },
  {
   "cell_type": "code",
   "execution_count": 8,
   "id": "f1a4183c",
   "metadata": {},
   "outputs": [
    {
     "ename": "TypeError",
     "evalue": "'WebElement' object is not subscriptable",
     "output_type": "error",
     "traceback": [
      "\u001b[1;31m---------------------------------------------------------------------------\u001b[0m",
      "\u001b[1;31mTypeError\u001b[0m                                 Traceback (most recent call last)",
      "\u001b[1;32m~\\AppData\\Local\\Temp\\ipykernel_288\\435220413.py\u001b[0m in \u001b[0;36m<module>\u001b[1;34m\u001b[0m\n\u001b[1;32m----> 1\u001b[1;33m \u001b[0melements\u001b[0m\u001b[1;33m[\u001b[0m\u001b[1;36m0\u001b[0m\u001b[1;33m]\u001b[0m\u001b[1;33m\u001b[0m\u001b[1;33m\u001b[0m\u001b[0m\n\u001b[0m",
      "\u001b[1;31mTypeError\u001b[0m: 'WebElement' object is not subscriptable"
     ]
    }
   ],
   "source": []
  },
  {
   "cell_type": "code",
   "execution_count": null,
   "id": "2f95e865",
   "metadata": {},
   "outputs": [],
   "source": []
  }
 ],
 "metadata": {
  "kernelspec": {
   "display_name": "Python 3 (ipykernel)",
   "language": "python",
   "name": "python3"
  },
  "language_info": {
   "codemirror_mode": {
    "name": "ipython",
    "version": 3
   },
   "file_extension": ".py",
   "mimetype": "text/x-python",
   "name": "python",
   "nbconvert_exporter": "python",
   "pygments_lexer": "ipython3",
   "version": "3.7.11"
  }
 },
 "nbformat": 4,
 "nbformat_minor": 5
}
