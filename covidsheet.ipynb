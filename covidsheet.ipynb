{
 "cells": [
  {
   "cell_type": "code",
   "execution_count": 1,
   "metadata": {},
   "outputs": [],
   "source": [
    "import gspread\n",
    "from oauth2client.service_account import ServiceAccountCredentials\n",
    "from datetime import datetime\n",
    "import selenium\n",
    "from selenium import webdriver\n",
    "from selenium.webdriver.chrome.service import Service\n",
    "from selenium.webdriver.common.by import By\n",
    "from selenium.webdriver.support.ui import WebDriverWait\n",
    "from selenium.webdriver.support import expected_conditions as EC"
   ]
  },
  {
   "cell_type": "code",
   "execution_count": 6,
   "metadata": {},
   "outputs": [],
   "source": [
    "#credentials to the account\n",
    "cred = ServiceAccountCredentials.from_json_keyfile_name(r'C:\\Users\\u0198\\Desktop\\AutoDev\\udn_scrap\\cred.json') ;\n",
    "# authorize the clientsheet \n",
    "client = gspread.authorize(cred)"
   ]
  },
  {
   "cell_type": "code",
   "execution_count": 13,
   "metadata": {},
   "outputs": [],
   "source": [
    "s=Service('C:/Users/chromedriver.exe')\n",
    "driver = webdriver.Chrome(service=s)\n",
    "driver.get(\"https://covid-19.nchc.org.tw/\")\n",
    "pause_time = 0.5\n",
    "\n",
    "element = WebDriverWait(driver, 8000).until(\n",
    "    EC.presence_of_element_located((By.XPATH, '/html/body/div[2]/div/div[3]/p/span/small'))\n",
    ")\n",
    "\n",
    "month = datetime.now().strftime(\"%m\")\n",
    "date = datetime.now().strftime(\"%d\")\n",
    "\n",
    "if int(month) < 10:\n",
    "    month = month[1:]\n",
    "\n",
    "if int(date) < 10:\n",
    "    date = date[1:]\n",
    "\n",
    "cases = element.text.split(\" \")[1]"
   ]
  },
  {
   "cell_type": "code",
   "execution_count": 17,
   "metadata": {},
   "outputs": [
    {
     "data": {
      "text/plain": [
       "{'spreadsheetId': '1HptU6LXdlCmyFdwc120tJ8Hk0OPp9ULkeTIBBj8phhc',\n",
       " 'tableRange': \"'2022'!A1:B279\",\n",
       " 'updates': {'spreadsheetId': '1HptU6LXdlCmyFdwc120tJ8Hk0OPp9ULkeTIBBj8phhc',\n",
       "  'updatedRange': \"'2022'!A280:B280\",\n",
       "  'updatedRows': 1,\n",
       "  'updatedColumns': 2,\n",
       "  'updatedCells': 2}}"
      ]
     },
     "execution_count": 17,
     "metadata": {},
     "output_type": "execute_result"
    }
   ],
   "source": [
    "sh = client.open('coviddata')\n",
    "worksheet = sh.worksheet('2022')\n",
    "\n",
    "# worksheet.insert_row([month/date, cases], index=3)\n",
    "worksheet.append_row([f'{month}/{date}', cases], table_range=\"A:A\")"
   ]
  },
  {
   "cell_type": "code",
   "execution_count": null,
   "metadata": {},
   "outputs": [],
   "source": []
  }
 ],
 "metadata": {
  "kernelspec": {
   "display_name": "Python 3.7.11 ('base')",
   "language": "python",
   "name": "python3"
  },
  "language_info": {
   "codemirror_mode": {
    "name": "ipython",
    "version": 3
   },
   "file_extension": ".py",
   "mimetype": "text/x-python",
   "name": "python",
   "nbconvert_exporter": "python",
   "pygments_lexer": "ipython3",
   "version": "3.7.11"
  },
  "orig_nbformat": 4,
  "vscode": {
   "interpreter": {
    "hash": "7c62db1229bb1255865e992bd7a57a1946cd892398ead16a2921a3b76fe47f44"
   }
  }
 },
 "nbformat": 4,
 "nbformat_minor": 2
}
