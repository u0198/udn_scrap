{
 "cells": [
  {
   "cell_type": "code",
   "execution_count": 78,
   "metadata": {},
   "outputs": [],
   "source": [
    "from pptx import Presentation\n",
    "from pptx.util import Inches, Pt\n",
    "from datetime import datetime\n",
    "from pptx.dml.color import RGBColor\n",
    "from pptx.enum.text import PP_ALIGN\n",
    "from pptx.enum.shapes import MSO_SHAPE"
   ]
  },
  {
   "cell_type": "code",
   "execution_count": 79,
   "metadata": {},
   "outputs": [],
   "source": [
    "prs = Presentation()\n",
    "prs.slide_width = Inches(16)\n",
    "prs.slide_height = Inches(9)\n",
    "blank_slide_layout = prs.slide_layouts[6]\n",
    "slide = prs.slides.add_slide(blank_slide_layout)"
   ]
  },
  {
   "cell_type": "code",
   "execution_count": 80,
   "metadata": {},
   "outputs": [],
   "source": [
    "shape = slide.shapes.add_textbox(Inches(1.8), Inches(6), Inches(12), Inches(1))\n",
    "title = shape.text_frame\n",
    "\n",
    "title.text = f'11/14起調整防疫措施 : 1. 調整採居家照護之COVID-19非重症確診者隔離/自主健康管理為5+n天\\n                                             2. 取消具有「接觸不特定人士或無法保持社交距離」性質之場所工作人員\\n                                                之COVID-19疫苗追加劑(第三劑)接種或快篩之限制'\n",
    "\n",
    "for p in title.paragraphs:\n",
    "  p.font.size = Pt(20)\n",
    "  p.font.name = \"微軟正黑體\"\n",
    "\n",
    "shape = slide.shapes.add_textbox(Inches(1.8), Inches(7.3), Inches(7), Inches(1))\n",
    "title = shape.text_frame\n",
    "\n",
    "title.text = '在外用餐，與北辦用餐都要注意個人衛生管理。'\n",
    "title.paragraphs[0].font.size = Pt(20)\n",
    "title.paragraphs[1].font.name = \"微軟正黑體\""
   ]
  },
  {
   "cell_type": "code",
   "execution_count": 81,
   "metadata": {},
   "outputs": [],
   "source": [
    "prs.save(f'新冠即時訊息.pptx')"
   ]
  }
 ],
 "metadata": {
  "kernelspec": {
   "display_name": "Python 3.7.11 ('base')",
   "language": "python",
   "name": "python3"
  },
  "language_info": {
   "codemirror_mode": {
    "name": "ipython",
    "version": 3
   },
   "file_extension": ".py",
   "mimetype": "text/x-python",
   "name": "python",
   "nbconvert_exporter": "python",
   "pygments_lexer": "ipython3",
   "version": "3.7.11"
  },
  "orig_nbformat": 4,
  "vscode": {
   "interpreter": {
    "hash": "7c62db1229bb1255865e992bd7a57a1946cd892398ead16a2921a3b76fe47f44"
   }
  }
 },
 "nbformat": 4,
 "nbformat_minor": 2
}
