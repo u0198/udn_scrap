{
 "cells": [
  {
   "cell_type": "code",
   "execution_count": 1,
   "id": "1196ba98",
   "metadata": {},
   "outputs": [
    {
     "data": {
      "text/plain": [
       "'6/20,35596'"
      ]
     },
     "execution_count": 1,
     "metadata": {},
     "output_type": "execute_result"
    }
   ],
   "source": [
    "import gspread\n",
    "from oauth2client.service_account import ServiceAccountCredentials\n",
    "from datetime import datetime\n",
    "import selenium\n",
    "from selenium import webdriver\n",
    "from selenium.webdriver.chrome.service import Service\n",
    "from selenium.webdriver.common.by import By\n",
    "from selenium.webdriver.support.ui import WebDriverWait\n",
    "from selenium.webdriver.support import expected_conditions as EC\n",
    "\n",
    "s=Service('C:/Users/chromedriver.exe')\n",
    "driver = webdriver.Chrome(service=s)\n",
    "driver.get(\"https://covid-19.nchc.org.tw/\")\n",
    "pause_time = 0.5\n",
    "\n",
    "element = WebDriverWait(driver, 8000).until(\n",
    "    EC.presence_of_element_located((By.XPATH, '/html/body/div[2]/div/div[3]/p/span/small'))\n",
    ")\n",
    "\n",
    "month = datetime.now().strftime(\"%m\")\n",
    "date = datetime.now().strftime(\"%d\")\n",
    "\n",
    "if int(month) < 10:\n",
    "    month = month[1:]\n",
    "\n",
    "if int(date) < 10:\n",
    "    date = date[1:]\n",
    "\n",
    "cases = element.text.split(\" \")[1]\n",
    "\n",
    "covid_data = f'{month}/{date},{cases}'\n",
    "\n",
    "covid_data"
   ]
  },
  {
   "cell_type": "code",
   "execution_count": 2,
   "id": "bfeffeff",
   "metadata": {},
   "outputs": [],
   "source": [
    "with open('covid_case.csv', mode='a') as file:\n",
    "    file.writelines(covid_data + '\\n')"
   ]
  },
  {
   "cell_type": "code",
   "execution_count": 3,
   "id": "358e2bc9",
   "metadata": {},
   "outputs": [
    {
     "data": {
      "text/plain": [
       "<selenium.webdriver.remote.webelement.WebElement (session=\"209d85dc239d4cbee068566494ceb5d8\", element=\"155a0918-9260-4602-8e46-2e7138336ba8\")>"
      ]
     },
     "execution_count": 3,
     "metadata": {},
     "output_type": "execute_result"
    }
   ],
   "source": [
    "#credentials to the account\n",
    "cred = ServiceAccountCredentials.from_json_keyfile_name(r'C:\\Users\\u0198\\Desktop\\AutoDev\\udn_scrap\\cred.json') ;\n",
    "# authorize the clientsheet \n",
    "client = gspread.authorize(cred)"
   ]
  },
  {
   "cell_type": "code",
   "execution_count": null,
   "id": "40da2ee7",
   "metadata": {},
   "outputs": [],
   "source": [
    "sh = client.open('coviddata')\n",
    "worksheet = sh.worksheet('2022')\n",
    "\n",
    "# worksheet.insert_row([month/date, cases], index=3)\n",
    "worksheet.append_row([f'{month}/{date}', cases], table_range=\"A:A\")"
   ]
  }
 ],
 "metadata": {
  "kernelspec": {
   "display_name": "Python 3.7.8 64-bit",
   "language": "python",
   "name": "python3"
  },
  "language_info": {
   "codemirror_mode": {
    "name": "ipython",
    "version": 3
   },
   "file_extension": ".py",
   "mimetype": "text/x-python",
   "name": "python",
   "nbconvert_exporter": "python",
   "pygments_lexer": "ipython3",
   "version": "3.7.8 (tags/v3.7.8:4b47a5b6ba, Jun 28 2020, 08:53:46) [MSC v.1916 64 bit (AMD64)]"
  },
  "vscode": {
   "interpreter": {
    "hash": "0a54084e6b208ee8d1ce3989ffc20924477a5f55f5a43e22e699a6741623861e"
   }
  }
 },
 "nbformat": 4,
 "nbformat_minor": 5
}
